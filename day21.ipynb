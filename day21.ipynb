{
 "cells": [
  {
   "cell_type": "code",
   "execution_count": null,
   "id": "a95e81af-eed3-4d72-b3c8-8d126c700f22",
   "metadata": {
    "tags": []
   },
   "outputs": [
    {
     "name": "stdout",
     "output_type": "stream",
     "text": [
      "MATH GAME!\n",
      "Test your knowledge and speed with this multiplication game.\n",
      "Answer as fast as possible with the multiples of the given numbers from 1-10\n"
     ]
    }
   ],
   "source": [
    "####Day 21: Challenge\n",
    "print(\"MATH GAME!\")\n",
    "print(\"Test your knowledge and speed with this multiplication game.\")\n",
    "print(\"Answer as fast as possible with the multiples of the given numbers from 1-10\")\n",
    "\n",
    "multiples = int(input(\"Name your multiples: \"))\n",
    "\n",
    "for i in range(10):\n",
    "    print(i+1, \"x \", multiples ,\" = \")\n",
    "    \n",
    "answer = multiples*i\n",
    "print(answer)\n",
    "\n",
    "\n",
    "\n",
    "\n",
    "\n"
   ]
  },
  {
   "cell_type": "code",
   "execution_count": null,
   "id": "44f13d95-a088-457f-985d-f7e693046fee",
   "metadata": {},
   "outputs": [],
   "source": []
  }
 ],
 "metadata": {
  "kernelspec": {
   "display_name": "Python 3 (ipykernel)",
   "language": "python",
   "name": "python3"
  },
  "language_info": {
   "codemirror_mode": {
    "name": "ipython",
    "version": 3
   },
   "file_extension": ".py",
   "mimetype": "text/x-python",
   "name": "python",
   "nbconvert_exporter": "python",
   "pygments_lexer": "ipython3",
   "version": "3.11.5"
  }
 },
 "nbformat": 4,
 "nbformat_minor": 5
}
