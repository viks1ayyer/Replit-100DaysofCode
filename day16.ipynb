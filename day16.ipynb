{
 "cells": [
  {
   "cell_type": "code",
   "execution_count": 6,
   "id": "52bcb831-9dc2-4567-8e84-a22588a819e6",
   "metadata": {
    "tags": []
   },
   "outputs": [
    {
     "name": "stdout",
     "output_type": "stream",
     "text": [
      "This program is runnning\n"
     ]
    },
    {
     "name": "stdin",
     "output_type": "stream",
     "text": [
      "Go again? no\n"
     ]
    },
    {
     "name": "stdout",
     "output_type": "stream",
     "text": [
      "Aww, I was having a good time! T_T\n"
     ]
    }
   ],
   "source": [
    "while True:\n",
    "    print(\"This program is runnning\")\n",
    "    goAgain = input (\"Go again?\")\n",
    "    if goAgain == \"no\":\n",
    "        break\n",
    "print(\"Aww, I was having a good time! T_T\")"
   ]
  },
  {
   "cell_type": "code",
   "execution_count": 13,
   "id": "d8a3799b-2997-49c8-a93f-90351671de73",
   "metadata": {
    "tags": []
   },
   "outputs": [
    {
     "name": "stdout",
     "output_type": "stream",
     "text": [
      "That's not quite right, try again\n"
     ]
    },
    {
     "name": "stdin",
     "output_type": "stream",
     "text": [
      "What's the next word in the song? Somebody once _____ me guessed\n"
     ]
    },
    {
     "name": "stdout",
     "output_type": "stream",
     "text": [
      "That's not quite right, try again\n"
     ]
    },
    {
     "name": "stdin",
     "output_type": "stream",
     "text": [
      "What's the next word in the song? Somebody once _____ me told\n"
     ]
    },
    {
     "name": "stdout",
     "output_type": "stream",
     "text": [
      "You're a true smashmouth fan, you must love Shrek, but it took you 2 tries\n"
     ]
    }
   ],
   "source": [
    "###Challenge: fill in the next word in the song\n",
    "countTry = 1\n",
    "while True:\n",
    "    print(\"That's not quite right, try again\")\n",
    "    tryAgain = input (\"What's the next word in the song? Somebody once _____ me\")\n",
    "    if tryAgain != \"told\":\n",
    "        countTry += 1\n",
    "    else:\n",
    "        break\n",
    "print (\"You're a true smashmouth fan, you must love Shrek, but it took you\", countTry,\"tries\")"
   ]
  },
  {
   "cell_type": "code",
   "execution_count": null,
   "id": "a40ca94e-d9c5-49a7-b2c1-5a440ba85085",
   "metadata": {},
   "outputs": [],
   "source": []
  }
 ],
 "metadata": {
  "kernelspec": {
   "display_name": "Python 3 (ipykernel)",
   "language": "python",
   "name": "python3"
  },
  "language_info": {
   "codemirror_mode": {
    "name": "ipython",
    "version": 3
   },
   "file_extension": ".py",
   "mimetype": "text/x-python",
   "name": "python",
   "nbconvert_exporter": "python",
   "pygments_lexer": "ipython3",
   "version": "3.11.5"
  }
 },
 "nbformat": 4,
 "nbformat_minor": 5
}
