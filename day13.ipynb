{
 "cells": [
  {
   "cell_type": "code",
   "execution_count": 19,
   "id": "a0a73b25-1b26-4786-919a-ef4bae017998",
   "metadata": {
    "tags": []
   },
   "outputs": [
    {
     "name": "stdout",
     "output_type": "stream",
     "text": [
      "Exam Grade Calculator\n",
      "Choose your subject from one of the below!\n",
      "1. Biology\n",
      "2. Chemistry\n",
      "3. Physics\n",
      "4. Mathematics\n",
      "5. Computer Science\n"
     ]
    },
    {
     "name": "stdin",
     "output_type": "stream",
     "text": [
      "Enter the Number of your Subject 5\n"
     ]
    },
    {
     "name": "stdout",
     "output_type": "stream",
     "text": [
      "Name of exam taken:  Computer Science\n"
     ]
    },
    {
     "name": "stdin",
     "output_type": "stream",
     "text": [
      "What is the maximum score one can achieve? 69\n",
      "And what did you get on that exam? 40\n"
     ]
    },
    {
     "name": "stdout",
     "output_type": "stream",
     "text": [
      "You're a failure and no one loves you\n",
      "You got a  0.58 on  Computer Science ,not bad!\n"
     ]
    }
   ],
   "source": [
    "##Exam Grade Calculator\n",
    "print(\"Exam Grade Calculator\")\n",
    "\n",
    "print(\"Choose your subject from one of the below!\")\n",
    "print(\"1. Biology\")\n",
    "print(\"2. Chemistry\")\n",
    "print(\"3. Physics\")\n",
    "print(\"4. Mathematics\")\n",
    "print(\"5. Computer Science\")\n",
    "\n",
    "subject = input(\"Enter the Number of your Subject\")\n",
    "if subject == \"1\":\n",
    "    nameOfExam = \"Biology\"\n",
    "elif subject == \"2\":\n",
    "    nameOfExam = \"Chemistry\"\n",
    "elif subject == \"3\":\n",
    "    nameOfExam = \"Physics\"\n",
    "elif subject == \"4\":\n",
    "    nameOfExam = \"Mathematics\"\n",
    "elif subject == \"5\":\n",
    "    nameOfExam = \"Computer Science\"\n",
    "else: print (\"You're not enrolled in the subject\")\n",
    "\n",
    "print(\"Name of exam taken: \", nameOfExam)\n",
    "      \n",
    "gradingScale = input(\"What is the maximum score one can achieve?\")\n",
    "\n",
    "yourMarks = input(\"And what did you get on that exam?\")\n",
    "\n",
    "yourPercentage = round(int(yourMarks)/int(gradingScale),3)\n",
    "\n",
    "if yourPercentage >= 0.9:\n",
    "    print(\"A+\")\n",
    "elif yourPercentage >= 0.8:\n",
    "    print (\"A-\")\n",
    "elif yourPercentage >= 0.7:\n",
    "    print (\"B\")\n",
    "elif yourPercentage >= 0.6:\n",
    "    print (\"C\")\n",
    "else:\n",
    "    print (\"You're a failure and no one loves you\")\n",
    "\n",
    "print(\"You got a\", float(yourPercentage*100) , \"% on \" , nameOfExam , \",not bad!\")\n",
    "      \n"
   ]
  },
  {
   "cell_type": "code",
   "execution_count": null,
   "id": "415bfcaf-e68b-4b62-a1fb-8b6ac44724e8",
   "metadata": {},
   "outputs": [],
   "source": []
  },
  {
   "cell_type": "code",
   "execution_count": null,
   "id": "207a0eb1-3cbb-4e6a-863b-ce42621447db",
   "metadata": {},
   "outputs": [],
   "source": []
  },
  {
   "cell_type": "code",
   "execution_count": null,
   "id": "972b03ff-e17f-45d8-a246-518ad7ab692d",
   "metadata": {},
   "outputs": [],
   "source": []
  }
 ],
 "metadata": {
  "kernelspec": {
   "display_name": "Python 3 (ipykernel)",
   "language": "python",
   "name": "python3"
  },
  "language_info": {
   "codemirror_mode": {
    "name": "ipython",
    "version": 3
   },
   "file_extension": ".py",
   "mimetype": "text/x-python",
   "name": "python",
   "nbconvert_exporter": "python",
   "pygments_lexer": "ipython3",
   "version": "3.11.5"
  }
 },
 "nbformat": 4,
 "nbformat_minor": 5
}
