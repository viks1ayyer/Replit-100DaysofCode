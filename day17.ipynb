{
 "cells": [
  {
   "cell_type": "code",
   "execution_count": 1,
   "id": "2a5e8fce-1a24-4962-b58e-d2f825128b18",
   "metadata": {
    "tags": []
   },
   "outputs": [],
   "source": [
    "###prof gave an explanation of a D&D style simulator where users had to choose different paths"
   ]
  },
  {
   "cell_type": "code",
   "execution_count": 42,
   "id": "3eae7be8-e53b-4d53-b9ea-ffccc21ee495",
   "metadata": {
    "tags": []
   },
   "outputs": [
    {
     "name": "stdout",
     "output_type": "stream",
     "text": [
      "Select your move >> Type in R, P, or S\n"
     ]
    },
    {
     "name": "stdin",
     "output_type": "stream",
     "text": [
      "Player 1 >  ········\n",
      "Player 2 >  ········\n"
     ]
    },
    {
     "name": "stdout",
     "output_type": "stream",
     "text": [
      "Player 1 is the winner, with Rock . 1 /3\n",
      "Select your move >> Type in R, P, or S\n"
     ]
    },
    {
     "name": "stdin",
     "output_type": "stream",
     "text": [
      "Player 1 >  ········\n",
      "Player 2 >  ········\n"
     ]
    },
    {
     "name": "stdout",
     "output_type": "stream",
     "text": [
      "Player 1 is the winner, with Rock . 2 /3\n",
      "Select your move >> Type in R, P, or S\n"
     ]
    },
    {
     "name": "stdin",
     "output_type": "stream",
     "text": [
      "Player 1 >  ········\n",
      "Player 2 >  ········\n"
     ]
    },
    {
     "name": "stdout",
     "output_type": "stream",
     "text": [
      "Player 1 is the winner, with Rock . 3 /3\n",
      "Game Over! 3 rounds played.\n"
     ]
    }
   ],
   "source": [
    "###ROCK PAPER SCISSORS SHOWDOWN\"\n",
    "\n",
    "from getpass import getpass as input\n",
    "\n",
    "\n",
    "counterRPS = 0\n",
    "while counterRPS <= int(3):\n",
    "    print(\"Select your move >> Type in R, P, or S\")\n",
    "    playerR = \"Rock\"\n",
    "    playerP = \"Paper\" \n",
    "    playerS = \"Scissors\"\n",
    "    if counterRPS >= 3:\n",
    "        break\n",
    "    else:\n",
    "        player1Input = input(\"Player 1 > \")\n",
    "        player2Input = input(\"Player 2 > \")\n",
    "        \n",
    "    if player1Input not in [\"R\", \"P\", \"S\"] or player2Input not in [\"R\", \"P\", \"S\"]:\n",
    "        print(\"Wrong input, please try again\")\n",
    "        continue\n",
    "\n",
    "    if player1Input == \"R\" and player2Input == \"P\":\n",
    "        counterRPS +=1\n",
    "        print (\"Player 2 is the winner, with\", playerP, \".\", counterRPS,\"/3\")\n",
    "    elif player1Input == \"R\" and player2Input == \"S\":\n",
    "        counterRPS +=1\n",
    "        print (\"Player 1 is the winner, with\", playerR, \".\", counterRPS,\"/3\") \n",
    "    elif player1Input == \"P\" and player2Input == \"R\":\n",
    "        counterRPS +=1\n",
    "        print (\"Player 1 is the winner, with\", playerP, \".\", counterRPS,\"/3\")\n",
    "    elif player1Input == \"P\" and player2Input == \"S\":\n",
    "        counterRPS +=1\n",
    "        print (\"Player 2is the winner, with\", playerS, \".\", counterRPS,\"/3\")\n",
    "    elif player1Input == \"S\" and player2Input == \"P\":\n",
    "        counterRPS +=1\n",
    "        print (\"Player 2 is the winner, with\", playerP, \".\", counterRPS,\"/3\")\n",
    "    elif player1Input == \"S\" and player2Input == \"R\":\n",
    "        counterRPS +=1\n",
    "        print (\"Player 1 is the winner, with\", playerS, \".\", counterRPS,\"/3\")\n",
    "    elif player1Input == player2Input:\n",
    "        counterRPS +=int(0)\n",
    "        print (\"There isn't a winner this time\", \".\", counterRPS,\"/3\")\n",
    "    else: print (\"wrong input, please try again\")\n",
    "\n",
    "    if counterRPS >= 3:\n",
    "        print(\"Game Over! 3 rounds played.\")\n",
    "        break\n"
   ]
  },
  {
   "cell_type": "code",
   "execution_count": 23,
   "id": "f37034d8-c45e-4f05-9191-d5610abc8a5f",
   "metadata": {
    "tags": []
   },
   "outputs": [
    {
     "name": "stdout",
     "output_type": "stream",
     "text": [
      "Player 2 is the winner, with Paper . 3 /3\n"
     ]
    }
   ],
   "source": [
    "counterRPS =int(3)\n",
    "playerP = \"Paper\" \n",
    "print(\"Player 2 is the winner, with\", playerP, \".\",counterRPS,\"/3\")"
   ]
  },
  {
   "cell_type": "code",
   "execution_count": null,
   "id": "1ae5b2ef-2f43-45b9-b4da-26a85674f66e",
   "metadata": {},
   "outputs": [],
   "source": []
  },
  {
   "cell_type": "code",
   "execution_count": null,
   "id": "ef30b40b-8c7d-4d80-ad9d-1472e8acb895",
   "metadata": {},
   "outputs": [],
   "source": []
  },
  {
   "cell_type": "code",
   "execution_count": null,
   "id": "bbcd2ada-bb83-45f8-b603-d32938902268",
   "metadata": {},
   "outputs": [],
   "source": []
  }
 ],
 "metadata": {
  "kernelspec": {
   "display_name": "Python 3 (ipykernel)",
   "language": "python",
   "name": "python3"
  },
  "language_info": {
   "codemirror_mode": {
    "name": "ipython",
    "version": 3
   },
   "file_extension": ".py",
   "mimetype": "text/x-python",
   "name": "python",
   "nbconvert_exporter": "python",
   "pygments_lexer": "ipython3",
   "version": "3.11.5"
  }
 },
 "nbformat": 4,
 "nbformat_minor": 5
}
