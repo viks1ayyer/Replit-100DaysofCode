{
 "cells": [
  {
   "cell_type": "code",
   "execution_count": 1,
   "id": "110c94f2-3994-478e-bb06-9c1af5b3f130",
   "metadata": {
    "tags": []
   },
   "outputs": [
    {
     "name": "stdout",
     "output_type": "stream",
     "text": [
      "100\n",
      "101\n",
      "102\n",
      "103\n",
      "104\n",
      "105\n",
      "106\n",
      "107\n",
      "108\n",
      "109\n"
     ]
    }
   ],
   "source": [
    "for i in range(100,110):\n",
    "    print(i)"
   ]
  },
  {
   "cell_type": "code",
   "execution_count": 3,
   "id": "723f03de-a88e-4262-8538-b97978fc27d5",
   "metadata": {
    "tags": []
   },
   "outputs": [
    {
     "name": "stdout",
     "output_type": "stream",
     "text": [
      "Thirteen Times Table\n",
      "1 x 13 = 13\n",
      "2 x 13 = 26\n",
      "3 x 13 = 39\n",
      "4 x 13 = 52\n",
      "5 x 13 = 65\n",
      "6 x 13 = 78\n",
      "7 x 13 = 91\n",
      "8 x 13 = 104\n",
      "9 x 13 = 117\n",
      "10 x 13 = 130\n",
      "11 x 13 = 143\n",
      "12 x 13 = 156\n"
     ]
    }
   ],
   "source": [
    "print(\"Thirteen Times Table\")\n",
    "for i in range(1,13):\n",
    "    print(i, \"x 13 =\", i*13)"
   ]
  },
  {
   "cell_type": "code",
   "execution_count": 20,
   "id": "e0bb662e-8c2a-48de-8bd4-335d6a311410",
   "metadata": {
    "tags": []
   },
   "outputs": [
    {
     "name": "stdout",
     "output_type": "stream",
     "text": [
      "0\n",
      "25\n",
      "50\n",
      "75\n"
     ]
    }
   ],
   "source": [
    "for i in range(0,100,25):\n",
    "    print(i)"
   ]
  },
  {
   "cell_type": "code",
   "execution_count": 7,
   "id": "c13e4551-ce56-414e-bcdc-5d07bbaee2ec",
   "metadata": {
    "tags": []
   },
   "outputs": [
    {
     "name": "stdout",
     "output_type": "stream",
     "text": [
      "10\n",
      "9\n",
      "8\n",
      "7\n",
      "6\n",
      "5\n",
      "4\n",
      "3\n",
      "2\n",
      "1\n"
     ]
    }
   ],
   "source": [
    "for i in range (10,0,-1):\n",
    "    print(i)"
   ]
  },
  {
   "cell_type": "code",
   "execution_count": 22,
   "id": "e7b8b0a5-cbfd-42ee-b4ec-66bf61a5e7a3",
   "metadata": {
    "tags": []
   },
   "outputs": [
    {
     "name": "stdout",
     "output_type": "stream",
     "text": [
      "List Generator\n"
     ]
    },
    {
     "name": "stdin",
     "output_type": "stream",
     "text": [
      "Start at:  200\n",
      "End Before:  300\n",
      "Increment Between Values:  20\n"
     ]
    },
    {
     "name": "stdout",
     "output_type": "stream",
     "text": [
      "200\n",
      "220\n",
      "240\n",
      "260\n",
      "280\n"
     ]
    }
   ],
   "source": [
    "###Challenge:prof asking to create a list generator\n",
    "print(\"List Generator\")\n",
    "\n",
    "entryNumber = int(input(\"Start at: \"))\n",
    "exitNumber = int(input(\"End Before: \"))\n",
    "incrementTieringNumber = int(input(\"Increment Between Values: \"))\n",
    "                             \n",
    "for i in range(entryNumber, exitNumber, incrementTieringNumber):\n",
    "    print(i)"
   ]
  },
  {
   "cell_type": "code",
   "execution_count": null,
   "id": "af12263d-b8cf-4475-b3ed-4bc4d38a03f1",
   "metadata": {},
   "outputs": [],
   "source": []
  }
 ],
 "metadata": {
  "kernelspec": {
   "display_name": "Python 3 (ipykernel)",
   "language": "python",
   "name": "python3"
  },
  "language_info": {
   "codemirror_mode": {
    "name": "ipython",
    "version": 3
   },
   "file_extension": ".py",
   "mimetype": "text/x-python",
   "name": "python",
   "nbconvert_exporter": "python",
   "pygments_lexer": "ipython3",
   "version": "3.11.5"
  }
 },
 "nbformat": 4,
 "nbformat_minor": 5
}
