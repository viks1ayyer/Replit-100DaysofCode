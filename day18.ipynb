{
 "cells": [
  {
   "cell_type": "code",
   "execution_count": null,
   "id": "800e7597-e60d-4b07-9c95-ef98d006c669",
   "metadata": {
    "tags": []
   },
   "outputs": [
    {
     "name": "stdout",
     "output_type": "stream",
     "text": [
      "Welcome to the Number Guessing Game!\n"
     ]
    }
   ],
   "source": [
    "## The Number Guessing Game\n",
    "\n",
    "print(\"Welcome to the Number Guessing Game!\")\n",
    "\n",
    "userNumber = 475\n",
    "userGuess = 0\n",
    "userCount = 0\n",
    "\n",
    "while userGuess != userNumber:\n",
    "    userGuess = int(input(\"What is the number I'm thinking of? \"))\n",
    "    if userGuess < 0:\n",
    "        print(\"Negative number entered. Exiting the game.\")\n",
    "        break\n",
    "\n",
    "    if userGuess > userNumber:\n",
    "        userCount +=1 \n",
    "        print (\"That's way too high! You've guessed\", userCount,\"times.\")\n",
    "    elif (userGuess < userNumber) > 0:\n",
    "        userCount +=1 \n",
    "        print (\"That's way too low! You've guessed\", userCount,\"times.\")\n",
    "    else: \n",
    "        print (\"You've got it\")\n",
    "        break"
   ]
  },
  {
   "cell_type": "code",
   "execution_count": null,
   "id": "f993b365-36f3-4d60-b605-868f091fce81",
   "metadata": {},
   "outputs": [],
   "source": []
  },
  {
   "cell_type": "code",
   "execution_count": null,
   "id": "badbe6ce-ddfb-4755-8108-58ddf66bd321",
   "metadata": {},
   "outputs": [],
   "source": []
  },
  {
   "cell_type": "code",
   "execution_count": null,
   "id": "af8b6874-2185-40fd-a37d-d89343ce1655",
   "metadata": {},
   "outputs": [],
   "source": []
  }
 ],
 "metadata": {
  "kernelspec": {
   "display_name": "Python 3 (ipykernel)",
   "language": "python",
   "name": "python3"
  },
  "language_info": {
   "codemirror_mode": {
    "name": "ipython",
    "version": 3
   },
   "file_extension": ".py",
   "mimetype": "text/x-python",
   "name": "python",
   "nbconvert_exporter": "python",
   "pygments_lexer": "ipython3",
   "version": "3.11.5"
  }
 },
 "nbformat": 4,
 "nbformat_minor": 5
}
