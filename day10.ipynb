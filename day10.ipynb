{
 "cells": [
  {
   "cell_type": "code",
   "execution_count": 5,
   "id": "d61709e2-9e1a-4b9e-92f4-53529d0b4b8a",
   "metadata": {},
   "outputs": [
    {
     "name": "stdin",
     "output_type": "stream",
     "text": [
      "What was the bill?: 156.39\n",
      "How many people?:  4\n"
     ]
    },
    {
     "name": "stdout",
     "output_type": "stream",
     "text": [
      "You all owe 39.1\n"
     ]
    }
   ],
   "source": []
  },
  {
   "cell_type": "code",
   "execution_count": null,
   "id": "b2d8cead-447d-4e2f-ab19-1abfb6eb9636",
   "metadata": {},
   "outputs": [],
   "source": [
    "ourBill = float(input(\"What was the total bill amount?\"))\n",
    "noPax = int(input(\"How many people dined with us?\"))\n",
    "perPerson = round(ourBill/noPax,2)\n",
    "print (\"Ok, so your bill is\", perPerson)\n",
    "ourTip = str(input(\"Would you like to tip for good service today?\"))\n",
    "if ourTip == \"yes\": \n",
    "     ourTipChoice = input(\"what percentage would you like to tip service today?\")\n",
    "else:\n",
    "    print(\"Ok, your final per person total is\", perPerson)\n",
    "ourTotal = round((int(ourTipChoice)* 1.01 * int(ourBill) /int(noPax)),2)\n",
    "print(ourTotal)"
   ]
  },
  {
   "cell_type": "code",
   "execution_count": null,
   "id": "664aedc9-a657-40ae-b684-8167d7c9c3ea",
   "metadata": {},
   "outputs": [],
   "source": []
  }
 ],
 "metadata": {
  "kernelspec": {
   "display_name": "anaconda-ai-2024.04-py310",
   "language": "python",
   "name": "conda-env-anaconda-ai-2024.04-py310-py"
  },
  "language_info": {
   "codemirror_mode": {
    "name": "ipython",
    "version": 3
   },
   "file_extension": ".py",
   "mimetype": "text/x-python",
   "name": "python",
   "nbconvert_exporter": "python",
   "pygments_lexer": "ipython3",
   "version": "3.10.13"
  }
 },
 "nbformat": 4,
 "nbformat_minor": 5
}
