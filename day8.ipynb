{
 "cells": [
  {
   "cell_type": "code",
   "execution_count": null,
   "metadata": {},
   "outputs": [
    {
     "ename": "KeyboardInterrupt",
     "evalue": "Interrupted by user",
     "output_type": "error",
     "traceback": [
      "\u001b[1;31m---------------------------------------------------------------------------\u001b[0m",
      "\u001b[1;31mKeyboardInterrupt\u001b[0m                         Traceback (most recent call last)",
      "Cell \u001b[1;32mIn[1], line 1\u001b[0m\n\u001b[1;32m----> 1\u001b[0m tvShow \u001b[38;5;241m=\u001b[39m \u001b[38;5;28minput\u001b[39m(\u001b[38;5;124m\"\u001b[39m\u001b[38;5;124mWhat is your favorite TV show> \u001b[39m\u001b[38;5;124m\"\u001b[39m)\n\u001b[0;32m      2\u001b[0m \u001b[38;5;28;01mif\u001b[39;00m tvShow \u001b[38;5;241m==\u001b[39m \u001b[38;5;124m\"\u001b[39m\u001b[38;5;124mHow I Met Your Mother\u001b[39m\u001b[38;5;124m\"\u001b[39m \u001b[38;5;129;01mor\u001b[39;00m tvShow \u001b[38;5;241m==\u001b[39m \u001b[38;5;124m\"\u001b[39m\u001b[38;5;124mHIMYM\u001b[39m\u001b[38;5;124m\"\u001b[39m:\n\u001b[0;32m      3\u001b[0m   \u001b[38;5;28mprint\u001b[39m(\u001b[38;5;124m\"\u001b[39m\u001b[38;5;124mThat\u001b[39m\u001b[38;5;124m'\u001b[39m\u001b[38;5;124ms a great show, I wasn\u001b[39m\u001b[38;5;124m'\u001b[39m\u001b[38;5;124mt a fan of the ending though\u001b[39m\u001b[38;5;124m\"\u001b[39m)\n",
      "File \u001b[1;32mc:\\Users\\ritvi\\anaconda3\\Lib\\site-packages\\ipykernel\\kernelbase.py:1202\u001b[0m, in \u001b[0;36mKernel.raw_input\u001b[1;34m(self, prompt)\u001b[0m\n\u001b[0;32m   1200\u001b[0m     msg \u001b[38;5;241m=\u001b[39m \u001b[38;5;124m\"\u001b[39m\u001b[38;5;124mraw_input was called, but this frontend does not support input requests.\u001b[39m\u001b[38;5;124m\"\u001b[39m\n\u001b[0;32m   1201\u001b[0m     \u001b[38;5;28;01mraise\u001b[39;00m StdinNotImplementedError(msg)\n\u001b[1;32m-> 1202\u001b[0m \u001b[38;5;28;01mreturn\u001b[39;00m \u001b[38;5;28mself\u001b[39m\u001b[38;5;241m.\u001b[39m_input_request(\n\u001b[0;32m   1203\u001b[0m     \u001b[38;5;28mstr\u001b[39m(prompt),\n\u001b[0;32m   1204\u001b[0m     \u001b[38;5;28mself\u001b[39m\u001b[38;5;241m.\u001b[39m_parent_ident[\u001b[38;5;124m\"\u001b[39m\u001b[38;5;124mshell\u001b[39m\u001b[38;5;124m\"\u001b[39m],\n\u001b[0;32m   1205\u001b[0m     \u001b[38;5;28mself\u001b[39m\u001b[38;5;241m.\u001b[39mget_parent(\u001b[38;5;124m\"\u001b[39m\u001b[38;5;124mshell\u001b[39m\u001b[38;5;124m\"\u001b[39m),\n\u001b[0;32m   1206\u001b[0m     password\u001b[38;5;241m=\u001b[39m\u001b[38;5;28;01mFalse\u001b[39;00m,\n\u001b[0;32m   1207\u001b[0m )\n",
      "File \u001b[1;32mc:\\Users\\ritvi\\anaconda3\\Lib\\site-packages\\ipykernel\\kernelbase.py:1245\u001b[0m, in \u001b[0;36mKernel._input_request\u001b[1;34m(self, prompt, ident, parent, password)\u001b[0m\n\u001b[0;32m   1242\u001b[0m \u001b[38;5;28;01mexcept\u001b[39;00m \u001b[38;5;167;01mKeyboardInterrupt\u001b[39;00m:\n\u001b[0;32m   1243\u001b[0m     \u001b[38;5;66;03m# re-raise KeyboardInterrupt, to truncate traceback\u001b[39;00m\n\u001b[0;32m   1244\u001b[0m     msg \u001b[38;5;241m=\u001b[39m \u001b[38;5;124m\"\u001b[39m\u001b[38;5;124mInterrupted by user\u001b[39m\u001b[38;5;124m\"\u001b[39m\n\u001b[1;32m-> 1245\u001b[0m     \u001b[38;5;28;01mraise\u001b[39;00m \u001b[38;5;167;01mKeyboardInterrupt\u001b[39;00m(msg) \u001b[38;5;28;01mfrom\u001b[39;00m\u001b[38;5;250m \u001b[39m\u001b[38;5;28;01mNone\u001b[39;00m\n\u001b[0;32m   1246\u001b[0m \u001b[38;5;28;01mexcept\u001b[39;00m \u001b[38;5;167;01mException\u001b[39;00m:\n\u001b[0;32m   1247\u001b[0m     \u001b[38;5;28mself\u001b[39m\u001b[38;5;241m.\u001b[39mlog\u001b[38;5;241m.\u001b[39mwarning(\u001b[38;5;124m\"\u001b[39m\u001b[38;5;124mInvalid Message:\u001b[39m\u001b[38;5;124m\"\u001b[39m, exc_info\u001b[38;5;241m=\u001b[39m\u001b[38;5;28;01mTrue\u001b[39;00m)\n",
      "\u001b[1;31mKeyboardInterrupt\u001b[0m: Interrupted by user"
     ]
    }
   ],
   "source": [
    "##Wholesome Positivity Machine\n",
    "print(\"Hello! Welcome to the Wholesome Positivity Machine!\")\n",
    "name = input(\" What is your name?\")\n",
    "if name == \"Sebastian\" or name == \"Seb\":\n",
    "  print(\"Hello Sebastian!\")\n",
    "  print(\"You're a truly kind and compassionate soul, Sebastian. Keep shining your light on the world!\")\n",
    "elif name == \"Matthew\" or name == \"Matt\":\n",
    "  print(\"Hello Matthew!\")\n",
    "  print(\"Matthew, you have a heart of gold. Your generosity and understanding inspire others.\")\n",
    "elif name == \"Yung\" or name == \"Yung\":\n",
    "  print(\"Hello Yung!\")\n",
    "  print(\"Yung, you're a beacon of positivity! Your infectious laughter and optimistic spirit brighten everyone's day.\")\n",
    "else:\n",
    "  print(f\"Hello {name}!\")\n",
    "  print(\"It's wonderful to meet you! What brings you to the Wholesome Positivity Machine today?\")\n",
    "\n",
    "print(\"Let's create some positivity!\")\n",
    "feeling = input(\"Tell me, how are you feeling today? \")\n",
    "\n",
    "if feeling == \"happy\" or feeling == \"excited\":\n",
    "  print(\"That's wonderful! Keep spreading that joy! 😊\")\n",
    "elif feeling == \"sad\" or feeling == \"down\":\n",
    "  print(\"It's okay to feel down sometimes. Remember, you are loved and valued. 💖\")\n",
    "  print(\"Here are some things that might brighten your day:\")\n",
    "  print(\"1. Listen to your favorite music.\")\n",
    "  print(\"2. Go for a walk in nature.\")\n",
    "  print(\"3. Spend time with loved ones.\")\n",
    "  print(\"4. Do something kind for someone else.\")\n",
    "  print(\"5. Remember all the good things in your life.\")\n",
    "elif feeling == \"angry\" or feeling == \"frustrated\":\n",
    "  print(\"Take a deep breath and let go of the anger. You got this! 💪\")\n",
    "  print(\"Remember, anger is often a sign that something needs to change. What can you do to create a more positive situation?\")\n",
    "else:\n",
    "  print(\"That's a great feeling! I'm happy for you. 😊\")\n",
    "  print(\"Keep shining your light on the world! ✨\")\n",
    "\n",
    "print(\"What are some things you're grateful for today?\")\n",
    "gratitude_list = []\n",
    "while True:\n",
    "  gratitude = input(\"Enter a thing you're grateful for, or type 'done' to finish: \")\n",
    "  if gratitude.lower() == \"done\":\n",
    "    break\n",
    "  else:\n",
    "    gratitude_list.append(gratitude)\n",
    "\n",
    "print(\"Here's your list of things to be grateful for:\")\n",
    "for item in gratitude_list:\n",
    "  print(f\"- {item}\")\n",
    "\n",
    "print(\"Remember, you are amazing just the way you are! ✨\")\n",
    "print(\"Have a wonderful day! 🥰\")\n",
    "print(\"The Wholesome Positivity Machine is always here for you. Come back anytime! 💖\")"
   ]
  }
 ],
 "metadata": {
  "kernelspec": {
   "display_name": "base",
   "language": "python",
   "name": "python3"
  },
  "language_info": {
   "codemirror_mode": {
    "name": "ipython",
    "version": 3
   },
   "file_extension": ".py",
   "mimetype": "text/x-python",
   "name": "python",
   "nbconvert_exporter": "python",
   "pygments_lexer": "ipython3",
   "version": "3.11.5"
  }
 },
 "nbformat": 4,
 "nbformat_minor": 2
}
