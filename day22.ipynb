{
 "cells": [
  {
   "cell_type": "code",
   "execution_count": 6,
   "id": "7ad143c5-809a-4c91-916c-70d90506612c",
   "metadata": {
    "tags": []
   },
   "outputs": [
    {
     "name": "stdout",
     "output_type": "stream",
     "text": [
      "76\n"
     ]
    }
   ],
   "source": [
    "###Trying to play around with Random Numbers\n",
    "\n",
    "import random\n",
    "\n",
    "myNumber = random.randint(1,100)\n",
    "print(myNumber)"
   ]
  },
  {
   "cell_type": "code",
   "execution_count": 13,
   "id": "eac2ec0b-2796-4c8b-8853-f1a48b1f04de",
   "metadata": {
    "tags": []
   },
   "outputs": [
    {
     "name": "stdout",
     "output_type": "stream",
     "text": [
      "14\n",
      "8\n",
      "1\n",
      "50\n",
      "26\n",
      "52\n",
      "33\n",
      "68\n",
      "1\n",
      "25\n"
     ]
    }
   ],
   "source": [
    "import random\n",
    "myNumber = random.randint(1,100)\n",
    "\n",
    "for i in range(10):\n",
    "    myNumber = random.randint(1,100)\n",
    "    print(myNumber)"
   ]
  },
  {
   "cell_type": "code",
   "execution_count": null,
   "id": "a55e1c9f-1399-4cf5-84f2-97c20f101e78",
   "metadata": {},
   "outputs": [],
   "source": []
  },
  {
   "cell_type": "code",
   "execution_count": null,
   "id": "0f7ded18-efd9-4d39-b70a-b7c63b1cb4c6",
   "metadata": {},
   "outputs": [],
   "source": []
  }
 ],
 "metadata": {
  "kernelspec": {
   "display_name": "Python 3 (ipykernel)",
   "language": "python",
   "name": "python3"
  },
  "language_info": {
   "codemirror_mode": {
    "name": "ipython",
    "version": 3
   },
   "file_extension": ".py",
   "mimetype": "text/x-python",
   "name": "python",
   "nbconvert_exporter": "python",
   "pygments_lexer": "ipython3",
   "version": "3.11.5"
  }
 },
 "nbformat": 4,
 "nbformat_minor": 5
}
