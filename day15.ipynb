{
 "cells": [
  {
   "cell_type": "code",
   "execution_count": 5,
   "id": "7a9d2faa-1567-496e-92d7-d3bfb83502aa",
   "metadata": {
    "tags": []
   },
   "outputs": [
    {
     "name": "stdout",
     "output_type": "stream",
     "text": [
      "0\n",
      "1\n",
      "2\n",
      "3\n",
      "4\n",
      "5\n",
      "6\n",
      "7\n",
      "8\n",
      "9\n"
     ]
    }
   ],
   "source": [
    "counter = 0\n",
    "while counter < 10:\n",
    "    print (counter)\n",
    "    counter += 1"
   ]
  },
  {
   "cell_type": "code",
   "execution_count": null,
   "id": "b64f136c-11ef-4875-95ac-89f9664445f5",
   "metadata": {},
   "outputs": [],
   "source": [
    "## Careful of not leaving an exit clause"
   ]
  },
  {
   "cell_type": "code",
   "execution_count": 9,
   "id": "08e2bb67-31a2-4151-b382-950b62cbf00c",
   "metadata": {
    "tags": []
   },
   "outputs": [
    {
     "name": "stdout",
     "output_type": "stream",
     "text": [
      "It's party time!\n"
     ]
    },
    {
     "name": "stdin",
     "output_type": "stream",
     "text": [
      "Exit? (y/n) n\n"
     ]
    },
    {
     "name": "stdout",
     "output_type": "stream",
     "text": [
      "\n",
      "It's party time!\n"
     ]
    },
    {
     "name": "stdin",
     "output_type": "stream",
     "text": [
      "Exit? (y/n) n\n"
     ]
    },
    {
     "name": "stdout",
     "output_type": "stream",
     "text": [
      "\n",
      "It's party time!\n"
     ]
    },
    {
     "name": "stdin",
     "output_type": "stream",
     "text": [
      "Exit? (y/n) n\n"
     ]
    },
    {
     "name": "stdout",
     "output_type": "stream",
     "text": [
      "\n",
      "It's party time!\n"
     ]
    },
    {
     "name": "stdin",
     "output_type": "stream",
     "text": [
      "Exit? (y/n) n\n"
     ]
    },
    {
     "name": "stdout",
     "output_type": "stream",
     "text": [
      "\n",
      "It's party time!\n"
     ]
    },
    {
     "name": "stdin",
     "output_type": "stream",
     "text": [
      "Exit? (y/n) n\n"
     ]
    },
    {
     "name": "stdout",
     "output_type": "stream",
     "text": [
      "\n",
      "It's party time!\n"
     ]
    },
    {
     "name": "stdin",
     "output_type": "stream",
     "text": [
      "Exit? (y/n) n\n"
     ]
    },
    {
     "name": "stdout",
     "output_type": "stream",
     "text": [
      "\n",
      "It's party time!\n"
     ]
    },
    {
     "name": "stdin",
     "output_type": "stream",
     "text": [
      "Exit? (y/n) n\n"
     ]
    },
    {
     "name": "stdout",
     "output_type": "stream",
     "text": [
      "\n",
      "It's party time!\n"
     ]
    },
    {
     "name": "stdin",
     "output_type": "stream",
     "text": [
      "Exit? (y/n) yes\n"
     ]
    },
    {
     "name": "stdout",
     "output_type": "stream",
     "text": [
      "\n"
     ]
    }
   ],
   "source": [
    "exit = \"\"\n",
    "while exit != \"yes\":\n",
    "    print (\"It's party time!\")\n",
    "    exit = input(\"Exit? (yes for exit)\")"
   ]
  },
  {
   "cell_type": "code",
   "execution_count": 31,
   "id": "dc6bd78b-3bcf-4da9-82d0-b1942c2bba8f",
   "metadata": {
    "tags": []
   },
   "outputs": [
    {
     "name": "stdin",
     "output_type": "stream",
     "text": [
      "What animal would you like to hear the sound of now? type none to leave cow\n"
     ]
    },
    {
     "name": "stdout",
     "output_type": "stream",
     "text": [
      "The  cow goes  moo of course\n"
     ]
    },
    {
     "name": "stdin",
     "output_type": "stream",
     "text": [
      "What animal would you like to hear the sound of now? type none to leave duck\n"
     ]
    },
    {
     "name": "stdout",
     "output_type": "stream",
     "text": [
      "The  duck goes  quack quack of course\n"
     ]
    },
    {
     "name": "stdin",
     "output_type": "stream",
     "text": [
      "What animal would you like to hear the sound of now? type none to leave chicken\n"
     ]
    },
    {
     "name": "stdout",
     "output_type": "stream",
     "text": [
      "The  chicken goes  cluck cluck of course\n"
     ]
    },
    {
     "name": "stdin",
     "output_type": "stream",
     "text": [
      "What animal would you like to hear the sound of now? type none to leave none\n",
      "Do you want to exit? Type yes to exit yes\n"
     ]
    }
   ],
   "source": [
    "###Challenge: Animal Sound Generator\n",
    "exitProgram = \"\"\n",
    "while exitProgram.lower() != \"yes\":\n",
    "    userAnimal = input(\"What animal would you like to hear the sound of now? type none to leave\").lower()\n",
    "    if userAnimal ==\"cow\":\n",
    "        animalSound = \"moo\" \n",
    "        print(\"The \", userAnimal, \"goes \", animalSound, \"of course\")\n",
    "    elif userAnimal ==\"chicken\":\n",
    "        animalSound = \"cluck cluck\"\n",
    "        print(\"The \",userAnimal, \"goes \", animalSound, \"of course\")\n",
    "    elif userAnimal ==\"duck\":\n",
    "        animalSound = \"quack quack\"\n",
    "        print(\"The \",userAnimal, \"goes \", animalSound, \"of course\")\n",
    "    elif userAnimal == \"none\":\n",
    "        exitProgram = \"yes\"\n",
    "    else:\n",
    "        print(\"are you sure that's an animal?\")\n",
    "\n",
    "    \n",
    "exitProgram = input(\"Do you want to exit? Type yes to exit\")"
   ]
  },
  {
   "cell_type": "code",
   "execution_count": null,
   "id": "b1a063e5-fc09-4578-83cf-68afd059f535",
   "metadata": {},
   "outputs": [],
   "source": []
  },
  {
   "cell_type": "code",
   "execution_count": null,
   "id": "e9cd2fed-29c3-44db-a58f-8cf3fb1c6dc2",
   "metadata": {},
   "outputs": [],
   "source": []
  }
 ],
 "metadata": {
  "kernelspec": {
   "display_name": "Python 3 (ipykernel)",
   "language": "python",
   "name": "python3"
  },
  "language_info": {
   "codemirror_mode": {
    "name": "ipython",
    "version": 3
   },
   "file_extension": ".py",
   "mimetype": "text/x-python",
   "name": "python",
   "nbconvert_exporter": "python",
   "pygments_lexer": "ipython3",
   "version": "3.11.5"
  }
 },
 "nbformat": 4,
 "nbformat_minor": 5
}
