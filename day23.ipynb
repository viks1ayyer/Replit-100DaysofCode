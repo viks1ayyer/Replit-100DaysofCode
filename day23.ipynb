{
 "cells": [
  {
   "cell_type": "code",
   "execution_count": 3,
   "id": "6b970dab",
   "metadata": {},
   "outputs": [
    {
     "ename": "SyntaxError",
     "evalue": "expected '(' (1496776599.py, line 15)",
     "output_type": "error",
     "traceback": [
      "\u001b[1;36m  Cell \u001b[1;32mIn[3], line 15\u001b[1;36m\u001b[0m\n\u001b[1;33m    def print MyName() :\u001b[0m\n\u001b[1;37m              ^\u001b[0m\n\u001b[1;31mSyntaxError\u001b[0m\u001b[1;31m:\u001b[0m expected '('\n"
     ]
    }
   ],
   "source": [
    "import random\n",
    "\n",
    "\n",
    "def rollDice():\n",
    "  dice = random.randint(1, 6)\n",
    "  print(\"you rolled a\", dice)\n",
    "\n",
    "while True:\n",
    "  dice = random.randint(1, 6)\n",
    "  print(\"you rolled a\", dice)\n",
    "  if dice != 6:\n",
    "    continue\n",
    "  else: break\n",
    "\n",
    "def print MyName() :\n",
    "  print (\"my name is\", name)\n",
    "\n",
    "print MyName()\n",
    "  "
   ]
  },
  {
   "cell_type": "code",
   "execution_count": 8,
   "id": "699be46f",
   "metadata": {},
   "outputs": [],
   "source": [
    "import random\n",
    "\n",
    "def rollDice():\n",
    "    dice = random.randint(1,6)\n",
    "    print(\"you rolled a\", dice)\n",
    "    \n",
    "while True:\n",
    "    dice = random.randint(1,6)\n",
    "    print(\"you rolled a\", dice)\n",
    "    if dice != 6:\n",
    "        continue\n",
    "    else:\n",
    "        break"
   ]
  },
  {
   "cell_type": "code",
   "execution_count": 14,
   "id": "95eb237d",
   "metadata": {},
   "outputs": [
    {
     "name": "stdout",
     "output_type": "stream",
     "text": [
      "count 1\n",
      "count 2\n",
      "count 3\n",
      "count 4\n",
      "count 5\n",
      "count 6\n"
     ]
    }
   ],
   "source": [
    "import random\n",
    "\n",
    "def counttoSix():\n",
    "    for i in range(1,7):\n",
    "        print(\"count\", i)\n",
    "        \n",
    "counttoSix()"
   ]
  },
  {
   "cell_type": "code",
   "execution_count": null,
   "id": "9aaefa19",
   "metadata": {
    "scrolled": true
   },
   "outputs": [
    {
     "name": "stdout",
     "output_type": "stream",
     "text": [
      "\n",
      "--- MENU ---\n",
      "1. Register\n",
      "2. Login\n",
      "3. Exit\n",
      "Choose an option (1-3): 1\n",
      "Enter new username: vikayyer\n",
      "Enter new password: copper123\n",
      "Registration successful!\n",
      "\n",
      "--- MENU ---\n",
      "1. Register\n",
      "2. Login\n",
      "3. Exit\n",
      "Choose an option (1-3): 2\n",
      "Enter your username: vikayyer\n",
      "Enter your password: copper123\n",
      "Login successful!\n",
      "\n",
      "--- MENU ---\n",
      "1. Register\n",
      "2. Login\n",
      "3. Exit\n"
     ]
    }
   ],
   "source": [
    "users = {}\n",
    "\n",
    "# Subroutine to register a new user\n",
    "def register():\n",
    "    username = input(\"Enter new username: \")\n",
    "    if username in users:\n",
    "        print(\"Username already exists.\")\n",
    "    else:\n",
    "        password = input(\"Enter new password: \")\n",
    "        users[username] = password\n",
    "        print(\"Registration successful!\")\n",
    "\n",
    "# Subroutine to login\n",
    "def login():\n",
    "    username = input(\"Enter your username: \")\n",
    "    password = input(\"Enter your password: \")\n",
    "    if username in users and users[username] == password:\n",
    "        print(\"Login successful!\")\n",
    "    else:\n",
    "        print(\"Invalid username or password.\")\n",
    "\n",
    "# Subroutine to display menu\n",
    "def menu():\n",
    "    while True:\n",
    "        print(\"\\n--- MENU ---\")\n",
    "        print(\"1. Register\")\n",
    "        print(\"2. Login\")\n",
    "        print(\"3. Exit\")\n",
    "        choice = input(\"Choose an option (1-3): \")\n",
    "\n",
    "        if choice == '1':\n",
    "            register()\n",
    "        elif choice == '2':\n",
    "            login()\n",
    "        elif choice == '3':\n",
    "            print(\"Goodbye!\")\n",
    "            break\n",
    "        else:\n",
    "            print(\"Invalid choice. Try again.\")\n",
    "\n",
    "# Start the program\n",
    "menu()"
   ]
  },
  {
   "cell_type": "code",
   "execution_count": null,
   "id": "8b24dd26",
   "metadata": {},
   "outputs": [],
   "source": []
  }
 ],
 "metadata": {
  "kernelspec": {
   "display_name": "Python 3 (ipykernel)",
   "language": "python",
   "name": "python3"
  },
  "language_info": {
   "codemirror_mode": {
    "name": "ipython",
    "version": 3
   },
   "file_extension": ".py",
   "mimetype": "text/x-python",
   "name": "python",
   "nbconvert_exporter": "python",
   "pygments_lexer": "ipython3",
   "version": "3.11.5"
  }
 },
 "nbformat": 4,
 "nbformat_minor": 5
}
