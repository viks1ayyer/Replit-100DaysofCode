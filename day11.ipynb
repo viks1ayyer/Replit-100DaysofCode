{
 "cells": [
  {
   "cell_type": "code",
   "execution_count": 2,
   "id": "5c50812f-c8da-4ec5-8da9-ed8a780c3e94",
   "metadata": {},
   "outputs": [
    {
     "name": "stdout",
     "output_type": "stream",
     "text": [
      "How many seconds are in a year! Try and calculate it now\n",
      "31536000\n"
     ]
    }
   ],
   "source": [
    "#Number of Seconds in a Year Exercise\n",
    "print(\"How many seconds are in a year! Try and calculate it now\")\n",
    "oneSecond = 1\n",
    "oneMinute = oneSecond * 60\n",
    "oneHour = oneMinute * 60\n",
    "oneDay = oneHour * 24\n",
    "oneWeek = oneDay * 7\n",
    "january = 31 * oneDay\n",
    "february = 28 * oneDay\n",
    "march = 31 * oneDay\n",
    "april = 30 * oneDay\n",
    "may = 31 * oneDay\n",
    "june = 30 * oneDay\n",
    "july = 31 * oneDay\n",
    "august = 31 * oneDay\n",
    "september = 30 * oneDay\n",
    "october = 31 * oneDay\n",
    "november = 30 * oneDay\n",
    "december = 31 * oneDay\n",
    "oneYear = round((january + february + march + april + may + june + july + august + september + october + november + december),0)\n",
    "print (oneYear)"
   ]
  },
  {
   "cell_type": "code",
   "execution_count": null,
   "id": "9cafdab9-4591-4abe-8dfc-f3e3c8ba8146",
   "metadata": {},
   "outputs": [],
   "source": []
  }
 ],
 "metadata": {
  "kernelspec": {
   "display_name": "anaconda-ai-2024.04-py310",
   "language": "python",
   "name": "conda-env-anaconda-ai-2024.04-py310-py"
  },
  "language_info": {
   "codemirror_mode": {
    "name": "ipython",
    "version": 3
   },
   "file_extension": ".py",
   "mimetype": "text/x-python",
   "name": "python",
   "nbconvert_exporter": "python",
   "pygments_lexer": "ipython3",
   "version": "3.10.13"
  }
 },
 "nbformat": 4,
 "nbformat_minor": 5
}
