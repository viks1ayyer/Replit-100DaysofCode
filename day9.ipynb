{
 "cells": [
  {
   "cell_type": "code",
   "execution_count": 9,
   "id": "905d26ab-ca8c-4f6d-9884-0b0eeee4fa32",
   "metadata": {},
   "outputs": [
    {
     "name": "stdin",
     "output_type": "stream",
     "text": [
      "Your score:  1000000\n"
     ]
    },
    {
     "name": "stdout",
     "output_type": "stream",
     "text": [
      "Winner!\n"
     ]
    }
   ],
   "source": [
    "myScore = int(input(\"Your score: \"))\n",
    "if myScore > 10000:\n",
    "    print(\"Winner!\")\n",
    "else:\n",
    "    print(\"Try again D:\")"
   ]
  },
  {
   "cell_type": "code",
   "execution_count": 14,
   "id": "e4e2b337-7316-4867-9c69-b23fd665d5f2",
   "metadata": {},
   "outputs": [
    {
     "name": "stdin",
     "output_type": "stream",
     "text": [
      "What is pi exactly? to 3dp 3.1459\n"
     ]
    },
    {
     "name": "stdout",
     "output_type": "stream",
     "text": [
      "Good Job!\n"
     ]
    }
   ],
   "source": [
    "myFloat = float(input(\"What is pi exactly? to 3dp\"))\n",
    "if myFloat == 3.1459:\n",
    "    print(\"Good Job!\")\n",
    "else: \n",
    "    print(\"Way to go, noob!\")"
   ]
  },
  {
   "cell_type": "code",
   "execution_count": 23,
   "id": "331bd6f9-d693-48cd-ab83-7f1070c86389",
   "metadata": {},
   "outputs": [
    {
     "name": "stdout",
     "output_type": "stream",
     "text": [
      "This game will let you know your exact generation based on only ONE (1) question!\n"
     ]
    },
    {
     "name": "stdin",
     "output_type": "stream",
     "text": [
      "What's your Birth Year? YYYY 1996\n"
     ]
    },
    {
     "name": "stdout",
     "output_type": "stream",
     "text": [
      "Millenials\n"
     ]
    }
   ],
   "source": [
    "#Generation Guesser\n",
    "print(\"This game will let you know your exact generation based on only ONE (1) question!\")\n",
    "myBirthYear = int(input(\"What's your Birth Year? YYYY\"))\n",
    "if 1883 <= myBirthYear <= 1900:\n",
    "    print (str(\"Lost Generation\"))\n",
    "elif 1901 <= myBirthYear <=1927:\n",
    "    print(str(\"Greatest Generation\"))\n",
    "elif 1928 <= myBirthYear <= 1945:\n",
    "    print(str(\"Silent Generation\"))\n",
    "elif 1946 <= myBirthYear <= 1964:\n",
    "    print(str(\"Baby Boomers\"))\n",
    "elif 1965 <= myBirthYear <= 1980:\n",
    "    print(str(\"Generation X\"))\n",
    "elif 1981 <= myBirthYear <= 1996:\n",
    "    print(str(\"Millenials\"))\n",
    "elif 1997 <= myBirthYear <= 2012:\n",
    "      print(str(\"Generation Z\"))\n",
    "elif 2012 <= myBirthYear <= 2026:\n",
    "      print(str(\"Generation Alpha\"))\n",
    "    \n",
    "                  "
   ]
  },
  {
   "cell_type": "code",
   "execution_count": null,
   "id": "6cae5503-2493-4613-b221-9b1801ac265f",
   "metadata": {},
   "outputs": [],
   "source": []
  },
  {
   "cell_type": "code",
   "execution_count": null,
   "id": "1257eec8-9974-4a97-8e14-7ccdeeb0627a",
   "metadata": {},
   "outputs": [],
   "source": []
  },
  {
   "cell_type": "code",
   "execution_count": null,
   "id": "fe9c114f-a8c6-45c9-b5c4-8686f0b68802",
   "metadata": {},
   "outputs": [],
   "source": []
  }
 ],
 "metadata": {
  "kernelspec": {
   "display_name": "anaconda-panel-2023.05-py310",
   "language": "python",
   "name": "conda-env-anaconda-panel-2023.05-py310-py"
  },
  "language_info": {
   "codemirror_mode": {
    "name": "ipython",
    "version": 3
   },
   "file_extension": ".py",
   "mimetype": "text/x-python",
   "name": "python",
   "nbconvert_exporter": "python",
   "pygments_lexer": "ipython3",
   "version": "3.11.5"
  }
 },
 "nbformat": 4,
 "nbformat_minor": 5
}
