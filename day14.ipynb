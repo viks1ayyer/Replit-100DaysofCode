{
 "cells": [
  {
   "cell_type": "code",
   "execution_count": 31,
   "id": "3027f63a-e5ab-4058-b0c3-61c5d26d7697",
   "metadata": {
    "tags": []
   },
   "outputs": [
    {
     "name": "stdout",
     "output_type": "stream",
     "text": [
      "Select your move >> Type in R, P, or S\n"
     ]
    },
    {
     "name": "stdin",
     "output_type": "stream",
     "text": [
      "Player 1 >  ········\n",
      "Player 2 >  ········\n"
     ]
    },
    {
     "name": "stdout",
     "output_type": "stream",
     "text": [
      "Player 2 is the winner, with Paper\n"
     ]
    }
   ],
   "source": [
    "###ROCK PAPER SCISSORS SHOWDOWN\"\n",
    "\n",
    "from getpass import getpass as input\n",
    "\n",
    "print(\"Select your move >> Type in R, P, or S\")\n",
    "\n",
    "playerR = \"Rock\"\n",
    "playerP = \"Paper\" \n",
    "playerS = \"Scissors\"\n",
    "\n",
    "player1Input = input(\"Player 1 > \")\n",
    "player2Input = input(\"Player 2 > \")\n",
    "\n",
    "if player1Input == \"R\" and player2Input == \"P\":\n",
    "    print (\"Player 2 is the winner, with\", playerP)\n",
    "elif player1Input == \"R\" and player2Input == \"S\":\n",
    "    print (\"Player 1 i the winner, with\", playerR)\n",
    "elif player1Input == \"P\" and player2Input == \"R\":\n",
    "    print (\"Player 1 is the winner, with\", playerP)\n",
    "elif player1Input == \"P\" and player2Input == \"S\":\n",
    "    print (\"Player 2is the winner, with\", playerS)\n",
    "elif player1Input == \"S\" and player2Input == \"P\":\n",
    "    print (\"Player 2 is the winner, with\", playerP)\n",
    "elif player1Input == \"S\" and player2Input == \"R\":\n",
    "    print (\"Player 1 is the winner, with\", playerS)\n",
    "elif player1Input == player2Input:\n",
    "    print (\"There isn't a winner this time\")\n",
    "else: print (\"wrong input, please try again\")\n",
    "\n",
    "\n"
   ]
  },
  {
   "cell_type": "code",
   "execution_count": null,
   "id": "86ddd107-7243-47e4-9a5f-9ceff7d1a268",
   "metadata": {},
   "outputs": [],
   "source": []
  },
  {
   "cell_type": "code",
   "execution_count": null,
   "id": "33dbbc29-a958-43b3-9f2d-2f675fd253b5",
   "metadata": {},
   "outputs": [],
   "source": []
  },
  {
   "cell_type": "code",
   "execution_count": null,
   "id": "73fe22b3-8be8-4e6a-94b1-a02295a66dcc",
   "metadata": {},
   "outputs": [],
   "source": []
  }
 ],
 "metadata": {
  "kernelspec": {
   "display_name": "Python 3 (ipykernel)",
   "language": "python",
   "name": "python3"
  },
  "language_info": {
   "codemirror_mode": {
    "name": "ipython",
    "version": 3
   },
   "file_extension": ".py",
   "mimetype": "text/x-python",
   "name": "python",
   "nbconvert_exporter": "python",
   "pygments_lexer": "ipython3",
   "version": "3.11.5"
  }
 },
 "nbformat": 4,
 "nbformat_minor": 5
}
