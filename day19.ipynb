{
 "cells": [
  {
   "cell_type": "code",
   "execution_count": 1,
   "id": "f8c4cd46-e082-41b7-be6d-c5b1f37fc873",
   "metadata": {
    "tags": []
   },
   "outputs": [
    {
     "name": "stdout",
     "output_type": "stream",
     "text": [
      "0\n",
      "1\n",
      "2\n",
      "3\n",
      "4\n",
      "5\n",
      "6\n",
      "7\n",
      "8\n",
      "9\n",
      "0\n",
      "1\n",
      "2\n",
      "3\n",
      "4\n",
      "5\n",
      "6\n",
      "7\n",
      "8\n",
      "9\n"
     ]
    }
   ],
   "source": [
    "##Demonstration by prof about the use case for for vs while loops\n",
    "\n",
    "for counter in range (10):\n",
    "    print (counter)\n",
    "    \n",
    "counter = 0\n",
    "while counter < 10:\n",
    "    print (counter)\n",
    "    counter +=1\n",
    "    "
   ]
  },
  {
   "cell_type": "code",
   "execution_count": 7,
   "id": "64b2e406-600e-47e0-b217-65fbe377c3c8",
   "metadata": {
    "tags": []
   },
   "outputs": [
    {
     "name": "stdout",
     "output_type": "stream",
     "text": [
      "Day 1\n",
      "Day 2\n",
      "Day 3\n",
      "Day 4\n",
      "Day 5\n",
      "Day 6\n",
      "Day 7\n"
     ]
    }
   ],
   "source": [
    "### Challenge: Debugging prof's code\n",
    "\n",
    "for days in range(7):\n",
    "    print(\"Day\", days+1)"
   ]
  },
  {
   "cell_type": "code",
   "execution_count": 31,
   "id": "08085350-5e49-415b-9373-8a849a7d8eca",
   "metadata": {
    "tags": []
   },
   "outputs": [
    {
     "name": "stdout",
     "output_type": "stream",
     "text": [
      "Standard Loan Calculator\n",
      "Interest Payments are Made Annually at EOY\n",
      "Year 0  is 1000\n",
      "Year 1  is 1050\n",
      "Year 2  is 1102\n",
      "Year 3  is 1157\n",
      "Year 4  is 1215\n",
      "Year 5  is 1276\n",
      "Year 6  is 1340\n",
      "Year 7  is 1407\n",
      "Year 8  is 1477\n",
      "Year 9  is 1551\n",
      "Year 10  is 1628\n",
      "You've paid  628  in interest over the years!\n"
     ]
    }
   ],
   "source": [
    "### Challenge: Interest on Loan Calculator\n",
    "\n",
    "print(\"Standard Loan Calculator\")\n",
    "print(\"Interest Payments are Made Annually at EOY\")\n",
    "\n",
    "principalLoan = 1000\n",
    "loanTerm = 11\n",
    "APR = 0.05\n",
    "\n",
    "for payment in range(loanTerm):\n",
    "    print(\"Year\", payment, \" is\", int(principalLoan * ((1 + APR) ** payment)))\n",
    "    \n",
    "print (\"You've paid \",int((principalLoan * ((1 + APR) ** payment))-principalLoan),\" in interest over the years!\")\n"
   ]
  },
  {
   "cell_type": "code",
   "execution_count": null,
   "id": "298d3c29-d199-4ca6-88d3-305acd364bfb",
   "metadata": {},
   "outputs": [],
   "source": []
  },
  {
   "cell_type": "code",
   "execution_count": null,
   "id": "e3c237d3-53cb-4721-94b4-3ffce28d3ffb",
   "metadata": {},
   "outputs": [],
   "source": []
  },
  {
   "cell_type": "code",
   "execution_count": null,
   "id": "1993c9d7-3e3c-42e5-ad51-f8734e899ab5",
   "metadata": {},
   "outputs": [],
   "source": []
  }
 ],
 "metadata": {
  "kernelspec": {
   "display_name": "Python 3 (ipykernel)",
   "language": "python",
   "name": "python3"
  },
  "language_info": {
   "codemirror_mode": {
    "name": "ipython",
    "version": 3
   },
   "file_extension": ".py",
   "mimetype": "text/x-python",
   "name": "python",
   "nbconvert_exporter": "python",
   "pygments_lexer": "ipython3",
   "version": "3.11.5"
  }
 },
 "nbformat": 4,
 "nbformat_minor": 5
}
