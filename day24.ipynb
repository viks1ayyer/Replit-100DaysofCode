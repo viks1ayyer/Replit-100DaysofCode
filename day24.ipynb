{
 "cells": [
  {
   "cell_type": "code",
   "execution_count": 11,
   "id": "9c83032f",
   "metadata": {},
   "outputs": [
    {
     "name": "stdout",
     "output_type": "stream",
     "text": [
      "I love Chocolate Cake\n",
      "So you want a  chocolate cake, with chocolate and coating?\n"
     ]
    }
   ],
   "source": [
    "##subroutines are like recipes, when you change the ingredients you get a different cake\n",
    "\n",
    "def whichCake(ingredient, base, coating):\n",
    "    if ingredient == \"chocolate\" and base == \"chocolate\" and coating == \"chocolate\":\n",
    "        print(\"I love Chocolate Cake\")\n",
    "    elif ingredient == \"pineapple\" and base ==\"cake\" and coating ==\"frosting\":\n",
    "        print(\"not good, not bad\")\n",
    "    elif ingredient ==\"carrot\" and base ==\"biscuit\" and coating ==\"frosting\":\n",
    "        print(\"are you daft?\")\n",
    "    else:\n",
    "        print(\"idk what you're on about\")\n",
    "    print(\"So you want a \", ingredient, \"cake, with\", base,\"and\", \"coating?\")\n",
    "        \n",
    "whichCake(\"chocolate\",\"chocolate\",\"chocolate\")"
   ]
  },
  {
   "cell_type": "code",
   "execution_count": 19,
   "id": "69cd6857",
   "metadata": {},
   "outputs": [
    {
     "name": "stdout",
     "output_type": "stream",
     "text": [
      "Infinity Dice Game\n",
      "to play, please indicate the number of dice rolls you'd like to participate in\n",
      "you got a  2076\n"
     ]
    }
   ],
   "source": [
    "###Challenge - Infinity DiceRolls\n",
    "\n",
    "import random\n",
    "\n",
    "print(\"Infinity Dice Game\")\n",
    "print(\"to play, please indicate the number of dice rolls you'd like to participate in\")\n",
    "   \n",
    "def diceRoll(numberRolls):\n",
    "    dice = random.randint (1,6)\n",
    "    print (\"you got a \",dice*numberRolls)\n",
    "\n",
    "diceRoll(346)\n",
    "\n",
    "input()"
   ]
  },
  {
   "cell_type": "code",
   "execution_count": null,
   "id": "149c3ad7",
   "metadata": {},
   "outputs": [],
   "source": []
  }
 ],
 "metadata": {
  "kernelspec": {
   "display_name": "Python 3 (ipykernel)",
   "language": "python",
   "name": "python3"
  },
  "language_info": {
   "codemirror_mode": {
    "name": "ipython",
    "version": 3
   },
   "file_extension": ".py",
   "mimetype": "text/x-python",
   "name": "python",
   "nbconvert_exporter": "python",
   "pygments_lexer": "ipython3",
   "version": "3.11.5"
  }
 },
 "nbformat": 4,
 "nbformat_minor": 5
}
